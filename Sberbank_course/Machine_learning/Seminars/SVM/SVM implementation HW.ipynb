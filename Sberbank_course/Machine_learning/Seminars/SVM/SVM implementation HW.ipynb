{
 "cells": [
  {
   "cell_type": "markdown",
   "id": "3545bff1-a5de-4b15-ac1a-f9e4fa0415e4",
   "metadata": {},
   "source": [
    "# Домашнее задание №2. SVM."
   ]
  },
  {
   "cell_type": "markdown",
   "id": "4286b6e0-7140-4d82-a5ea-8f0e02179b96",
   "metadata": {},
   "source": [
    "Нужно реализовать несколько алгоритмов SVM с помощью numpy/scipy библиотек. Каждую из реализаций сравнить с соответсвующей sklearn реализацией SVM алгоритма. "
   ]
  },
  {
   "cell_type": "markdown",
   "id": "2bdf2e16-45c5-47de-9b09-15ccebc49227",
   "metadata": {},
   "source": [
    "## Задание №1 (15 баллов)\n",
    "\n",
    "Реализовать класс **LinearPrimalSVM** - метод решения **много-классового линейного метода опорных векторов в стандартной задаче  оптимизации с квадратичной регуляризацией**. Для обучения много-классового алгоритма воспользоваться схемой **one-vs-rest**.  Реализовать методы init, fit, predict c возможностью конфигурации параметра регуляризации. Остальные функции реализовать на ваше усмотрение. \n",
    "\n",
    "Для оптимизации функции ошибки воспользоваться методом **стохастического градиентного спуска**."
   ]
  },
  {
   "cell_type": "code",
   "execution_count": 1,
   "id": "e9fd1923-2538-45d4-9fe3-bc1624882399",
   "metadata": {},
   "outputs": [],
   "source": [
    "class LinearPrimalSVM:\n",
    "    def __init__(self, regularization_type):\n",
    "        self.regularization_type = regularization_type\n",
    "    \n",
    "    def fit():\n",
    "        \"\"\"функция обучения модели\"\"\"\n",
    "        # CODE HERE\n",
    "        pass\n",
    "    \n",
    "    def predict():\n",
    "        \"\"\"функция предсказания\"\"\"\n",
    "        # CODE HERE\n",
    "        pass"
   ]
  },
  {
   "cell_type": "markdown",
   "id": "0d26dbfc-e10f-4504-817d-5746bf29cdb4",
   "metadata": {},
   "source": [
    "Оцените ваш алгоритм на тестовом сплите многоклассовом датасете классификации по выбранной метрике качества. Датасеты для классификации можно взять например [**отсюда**](https://archive.ics.uci.edu/ml/datasets.php?format=&task=cla&att=&area=&numAtt=&numIns=&type=&sort=nameUp&view=table) или сгенерировать самому. Сравните ваш алгоритм с sklearn имплементацией со следующими парарметрами:\n",
    "\n",
    "[*_sklearn.linear_model.SGDClassifier(loss='hinge', penalty='l2', fit_intercept=True)_*](https://scikit-learn.org/stable/modules/generated/sklearn.linear_model.SGDClassifier.html)\n",
    "\n",
    "Остальные параметры алгоритма на ваше усмотрение. \n",
    "\n",
    "Отличие в метриках между вашим алгоритмом и sklearn имплементацией алгоритма. Отличие в качестве не должно составлять более **1-2%**."
   ]
  },
  {
   "cell_type": "code",
   "execution_count": 2,
   "id": "377b0d55-56b9-4edf-957c-099226f71801",
   "metadata": {},
   "outputs": [],
   "source": [
    "# CODE HERE"
   ]
  },
  {
   "cell_type": "markdown",
   "id": "918a50f7-755e-4448-a245-419ba56c1dc1",
   "metadata": {},
   "source": [
    "### Задание № 2 (10 баллов)"
   ]
  },
  {
   "cell_type": "markdown",
   "id": "5e6b71f9-9232-4bfd-942c-33349e8a4bce",
   "metadata": {},
   "source": [
    "Визуализируйте построенные разделяющие прямые на вашем мультиклассовом датасете. Для визуализации можно пользоваться любыми библиотеками визуализации. В конце ноутбука приведены вспомогательные функции для визуализации."
   ]
  },
  {
   "cell_type": "code",
   "execution_count": 3,
   "id": "22c287f4-71f4-4bf6-b7f5-4111ebc2d2b2",
   "metadata": {},
   "outputs": [],
   "source": [
    "# CODE HERE"
   ]
  },
  {
   "cell_type": "markdown",
   "id": "bdc97e49-9ad6-4e35-a800-4edbf75458fc",
   "metadata": {},
   "source": [
    "Постройте график зависимости качества вашего алгоритма от параметра регуляризации на тестовом сплите. "
   ]
  },
  {
   "cell_type": "code",
   "execution_count": 4,
   "id": "68be5d3e-b68c-42ab-8db6-bb64c7fb984a",
   "metadata": {},
   "outputs": [],
   "source": [
    "# CODE HERE"
   ]
  },
  {
   "cell_type": "markdown",
   "id": "209a6633-c983-4a3e-b78d-470692c4efbe",
   "metadata": {
    "tags": []
   },
   "source": [
    "### Задание №3 (10 баллов)"
   ]
  },
  {
   "cell_type": "markdown",
   "id": "665c6fa9-c6ab-426a-9843-3d738b365ab5",
   "metadata": {},
   "source": [
    "Реализовать **NonlinearDualSVM** - метод решения **много-классового нелинейного метода опорных векторов двойственной задаче  оптимизации с квадратичной регуляризацией с поддежкой любого нелинейного ядра**. Алгоритм решения SVM через двойственную задачу можно взять из ноутбука, который мы рассматривали в классе - вам нужно поддержать многоклассовое решение задачи и поддержку ядра для решений в нелинейном случае. \n",
    "\n",
    "Для обучения много-классового алгоритма воспользоваться схемой **one-vs-one**. В качестве нелинейного ядра можно взять любое нелинейное [отсюда](https://scikit-learn.org/stable/modules/svm.html#svm-kernels)."
   ]
  },
  {
   "cell_type": "markdown",
   "id": "30d9afb4-cb56-49f6-be9e-8c634cf3c333",
   "metadata": {},
   "source": [
    "**Подсказка**\n",
    "\n",
    "Получить получить ядерную матрицу Грамма можно так:\n",
    "\n",
    "```python \n",
    "# X shape is (N, dim)\n",
    "# y_hat shape is (N, 1)\n",
    "\n",
    "def kernel(x1, x2):\n",
    "    return np.dot(x1, x2)\n",
    "\n",
    "kernalized_X = np.apply_along_axis(lambda x1 : np.apply_along_axis(lambda x2: kernel(x1, x2), 1, X), 1, X)  \n",
    "gram_matrix_Xy = kernalized_X * np.matmul(y_hat, y_hat.T) \n",
    "```"
   ]
  },
  {
   "cell_type": "code",
   "execution_count": null,
   "id": "07cb7f49-57c1-4f65-965d-566179814890",
   "metadata": {},
   "outputs": [],
   "source": []
  },
  {
   "cell_type": "code",
   "execution_count": 5,
   "id": "7014ea51-5c43-4c7f-9cf9-bdaa11eb4493",
   "metadata": {},
   "outputs": [],
   "source": [
    "class NonlinearDualSVM:\n",
    "    def __init__(self, regularization_type):\n",
    "        self.regularization_type = regularization_type\n",
    "    \n",
    "    def fit():\n",
    "        \"\"\"функция обучения модели\"\"\"\n",
    "        # CODE HERE\n",
    "        pass\n",
    "    \n",
    "    def predict():\n",
    "        \"\"\"функция предсказания\"\"\"\n",
    "        # CODE HERE\n",
    "        pass"
   ]
  },
  {
   "cell_type": "markdown",
   "id": "6a1f3d16-0870-44f6-ac24-22305a52b5ed",
   "metadata": {},
   "source": [
    "Оцените ваш алгоритм на тестовом сплите многоклассовом датасете классификации по выбранной метрике качества. Датасеты для классификации можно взять например [**отсюда**](https://archive.ics.uci.edu/ml/datasets.php?format=&task=cla&att=&area=&numAtt=&numIns=&type=&sort=nameUp&view=table) или сгенерировать самому. Сравните ваш алгоритм с sklearn имплементацией со следующими параметрами:\n",
    "\n",
    "[*_class sklearn.svm.SVC(kernel='poly/rbf/sigmoid')_*](https://scikit-learn.org/stable/modules/generated/sklearn.svm.SVC.html#sklearn.svm.SVC)\n",
    "\n",
    "Остальные параметры алгоритма на ваше усмотрение либо при необходимости для выбранного ядра. \n",
    "\n",
    "Отличие в метриках между вашим алгоритмом и sklearn имплементацией алгоритма не должно составлять более **5%**."
   ]
  },
  {
   "cell_type": "code",
   "execution_count": 6,
   "id": "6bf498a0-8516-4457-b24b-8b4168a64d5e",
   "metadata": {},
   "outputs": [],
   "source": [
    "#CODE HERE"
   ]
  },
  {
   "cell_type": "markdown",
   "id": "53cf36ec-9b66-4bc3-ae46-52659bfb4237",
   "metadata": {
    "tags": []
   },
   "source": [
    "#### Вспомогательные функции визуализации\n",
    "\n",
    "Данные для линейного/нелинейного разделения можно сгенерировать самому используя функции для визуализации."
   ]
  },
  {
   "cell_type": "code",
   "execution_count": 9,
   "id": "7519f653-4e5e-4e8d-a538-ece7ec0626c2",
   "metadata": {},
   "outputs": [
    {
     "data": {
      "image/png": "[encoded data removed]",
      "text/plain": [
       "<Figure size 432x288 with 2 Axes>"
      ]
     },
     "metadata": {
      "needs_background": "light"
     },
     "output_type": "display_data"
    }
   ],
   "source": [
    "import matplotlib.pyplot as plt\n",
    "import matplotlib.colors as pltcolors\n",
    "import numpy as np\n",
    "\n",
    "def plot_line(ax, x_range, w, x0, label, color='grey', linestyle='-', alpha=1.):\n",
    "    \"\"\"График разделяющей прямой с помощью вектора весов w и смещения x0\"\"\"\n",
    "    if type(x0) == int or type(x0) == float or type(x0) == np.float64:\n",
    "        x0 = [0, -x0 / w[1]]\n",
    "    yy = -(w[0] / w[1]) * (x_range - x0[0]) + x0[1]\n",
    "    ax.plot(x_range, yy, color=color, label=label, linestyle=linestyle)\n",
    "    \n",
    "def plot_svm(X, y, support=None, w=None, intercept=0., label='Data', separatorLabel='Separator', \n",
    "            ax=None, bound=[[-1., 1.], [-1., 1.]]):\n",
    "    \"\"\"График SVM оптимальной разделяющей прямой c отображением опорных векторов support\n",
    "    вектора весов w и смещения intercept\"\"\"\n",
    "    if ax is None:\n",
    "        fig, ax = plt.subplots(1)\n",
    "    \n",
    "    im = ax.scatter(X[:,0], X[:,1], c=y, cmap=cmap, alpha=0.5, label=label)\n",
    "    if support is not None:\n",
    "        ax.scatter(support[:,0], support[:,1], label='Support', s=80, facecolors='none', \n",
    "                   edgecolors='y', color='y')\n",
    "        print(\"Количество опорных векторов = %d\" % (len(support)))\n",
    "    if w is not None:\n",
    "        xx = np.array(bound[0])\n",
    "        plot_line(ax, xx, w, intercept, separatorLabel)\n",
    "        # Plot margin\n",
    "        if support is not None:\n",
    "            signed_dist = np.matmul(support, w)\n",
    "            margin = np.max(signed_dist) - np.min(signed_dist) * np.sqrt(np.dot(w, w))\n",
    "            support_max_neg = support[np.argmin(signed_dist)]\n",
    "            plot_line(ax, xx, w, support_max_neg, 'Margin -', linestyle='-.', alpha=0.8)\n",
    "            support_max_pos = support[np.argmax(signed_dist)]\n",
    "            plot_line(ax, xx, w, support_max_pos, 'Margin +', linestyle='--', alpha=0.8)\n",
    "            ax.set_title('Margin = %.3f' % (margin))\n",
    "    ax.legend(loc='upper left')\n",
    "    ax.grid()\n",
    "    ax.set_xlim(bound[0])\n",
    "    ax.set_ylim(bound[1])\n",
    "    cb = plt.colorbar(im, ax=ax)\n",
    "    loc = np.arange(-1,1,1)\n",
    "    cb.set_ticks(loc)\n",
    "    cb.set_ticklabels(['-1','1'])\n",
    "\n",
    "\n",
    "def generate_batch_xor(n, mu=0.5, sigma=0.5):\n",
    "    \"\"\" гауссианы в форме XOR операции\"\"\"\n",
    "    X = np.random.normal(mu, sigma, (n, 2))\n",
    "    yB0 = np.random.uniform(0, 1, n) > 0.5\n",
    "    yB1 = np.random.uniform(0, 1, n) > 0.5\n",
    "    # y is in {-1, 1}\n",
    "    y0 = 2. * yB0 - 1\n",
    "    y1 = 2. * yB1 - 1\n",
    "    X[:,0] *= y0\n",
    "    X[:,1] *= y1\n",
    "    X -= X.mean(axis=0)\n",
    "    return X, y0*y1\n",
    "\n",
    "colors = ['blue','red']\n",
    "cmap = pltcolors.ListedColormap(colors)\n",
    "nFeatures = 2\n",
    "N = 100\n",
    "xTrain3, yTrain3 = generate_batch_xor(2*N, sigma=0.25)\n",
    "plot_svm(xTrain3, yTrain3)\n",
    "xTest3, yTest3 = generate_batch_xor(2*N, sigma=0.25)"
   ]
  },
  {
   "cell_type": "code",
   "execution_count": null,
   "id": "59a1bc6e-e4b2-4436-9ff8-bce25b4bffee",
   "metadata": {},
   "outputs": [],
   "source": []
  },
  {
   "cell_type": "code",
   "execution_count": null,
   "id": "8e468981-8808-4706-ad3b-bc0b469cfb8e",
   "metadata": {},
   "outputs": [],
   "source": []
  }
 ],
 "metadata": {
  "kernelspec": {
   "display_name": "Python 3 (ipykernel)",
   "language": "python",
   "name": "python3"
  },
  "language_info": {
   "codemirror_mode": {
    "name": "ipython",
    "version": 3
   },
   "file_extension": ".py",
   "mimetype": "text/x-python",
   "name": "python",
   "nbconvert_exporter": "python",
   "pygments_lexer": "ipython3",
   "version": "3.9.7"
  }
 },
 "nbformat": 4,
 "nbformat_minor": 5
}
